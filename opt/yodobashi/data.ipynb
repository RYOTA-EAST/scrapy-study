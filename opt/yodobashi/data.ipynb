{
 "cells": [
  {
   "cell_type": "code",
   "execution_count": 38,
   "metadata": {},
   "outputs": [
    {
     "name": "stdout",
     "output_type": "stream",
     "text": [
      "               maker                                               name  \\\n",
      "0        富士通 FUJITSU  FMVF70F3BC [デスクトップパソコン/FMV/FHシリーズ/23.8型ワイド/Ryz...   \n",
      "1        富士通 FUJITSU  FMVF60F3W [デスクトップパソコン/FMV/FHシリーズ/23.8型ワイド/Ryze...   \n",
      "2         ASUS エイスース  D500SC-I511400A [デスクトップパソコン ASUS ExpertCenter ...   \n",
      "3        富士通 FUJITSU  FMVF60F3WC [デスクトップパソコン/FMV/FHシリーズ/23.8型ワイド/Ryz...   \n",
      "4         NEC エヌイーシー  PC-A2797DAB [デスクトップパソコン 27型/Ryzen 7 5800U/メモリ ...   \n",
      "..               ...                                                ...   \n",
      "127       ECS イーシーエス  LIVAZ2-4/64-W10Pro（N5030） [小型デスクトップパソコン/Pentiu...   \n",
      "128  レノボ･ジャパン Lenovo  90SM0064JP [デスクトップPC/IdeaCentre 370i/ Core i5/...   \n",
      "129       ECS イーシーエス  LIVAZ-4/64-W10（N3350） IOT [小型デスクトップパソコン/Celero...   \n",
      "130  レノボ･ジャパン Lenovo  90SM0061JP [デスクトップPC/ IdeaCentre 370i/ Core i3...   \n",
      "131       NEC エヌイーシー  PC-A2797CAB [デスクトップパソコン 27.0型/Core i7-10510U/メ...   \n",
      "\n",
      "      price  \n",
      "0    219800  \n",
      "1    158280  \n",
      "2    114640  \n",
      "3    184800  \n",
      "4    269280  \n",
      "..      ...  \n",
      "127   46180  \n",
      "128  128480  \n",
      "129   40780  \n",
      "130  117480  \n",
      "131  236280  \n",
      "\n",
      "[132 rows x 3 columns]\n",
      "Index(['maker', 'name', 'price'], dtype='object')\n"
     ]
    }
   ],
   "source": [
    "import pandas as pd\n",
    "df = pd.read_csv('desktop.csv', thousands=',')\n",
    "print(df)\n",
    "print(df.columns)"
   ]
  },
  {
   "cell_type": "code",
   "execution_count": 41,
   "metadata": {},
   "outputs": [
    {
     "data": {
      "text/plain": [
       "maker    object\n",
       "name     object\n",
       "price     int64\n",
       "dtype: object"
      ]
     },
     "execution_count": 41,
     "metadata": {},
     "output_type": "execute_result"
    }
   ],
   "source": [
    "df.astype({'price': int})\n",
    "df.dtypes"
   ]
  },
  {
   "cell_type": "code",
   "execution_count": 45,
   "metadata": {},
   "outputs": [
    {
     "name": "stdout",
     "output_type": "stream",
     "text": [
      "146830.83333333334\n",
      "465300\n",
      "21780\n"
     ]
    }
   ],
   "source": [
    "print(df['price'].mean())\n",
    "print(df['price'].max())\n",
    "print(df['price'].min())"
   ]
  }
 ],
 "metadata": {
  "kernelspec": {
   "display_name": "Python 3.10.0 64-bit ('3.10.0')",
   "language": "python",
   "name": "python3"
  },
  "language_info": {
   "codemirror_mode": {
    "name": "ipython",
    "version": 3
   },
   "file_extension": ".py",
   "mimetype": "text/x-python",
   "name": "python",
   "nbconvert_exporter": "python",
   "pygments_lexer": "ipython3",
   "version": "3.10.0"
  },
  "orig_nbformat": 4,
  "vscode": {
   "interpreter": {
    "hash": "284886cfdf193e50fa1510efc6abf9ec140cf288d3de15032de25191a02599b0"
   }
  }
 },
 "nbformat": 4,
 "nbformat_minor": 2
}
